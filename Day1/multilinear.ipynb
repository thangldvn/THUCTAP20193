{
 "cells": [
  {
   "cell_type": "code",
   "execution_count": 8,
   "metadata": {},
   "outputs": [],
   "source": [
    "from pandas import DataFrame\n",
    "from sklearn.preprocessing import StandardScaler\n",
    "sc = StandardScaler()\n",
    "from math import sqrt\n",
    "from sklearn import linear_model\n",
    "from sklearn import metrics\n",
    "import statsmodels.api as sm\n",
    "import time\n",
    "import pandas as pd"
   ]
  },
  {
   "cell_type": "code",
   "execution_count": 9,
   "metadata": {
    "tags": []
   },
   "outputs": [
    {
     "output_type": "stream",
     "name": "stdout",
     "text": "Thoi gian chay --- 0.01473689079284668 seconds ---\nIntercept: \n 1070.0833333333328\nCoefficients: \n [118.23278717 -80.81515288]\n"
    }
   ],
   "source": [
    "# du lieu dau vao\n",
    "df = pd.read_csv('stock.csv')\n",
    "#doc du lieu va chia du lieuj thanh 2 truoung \n",
    "df = DataFrame(Stock_Market,columns=['Year','Month','Interest_Rate','Unemployment_Rate','Stock_Index_Price'])\n",
    "\n",
    "\n",
    "X = df[['Interest_Rate','Unemployment_Rate']] \n",
    "Y = df['Stock_Index_Price']\n",
    "X = sc.fit_transform(X)\n",
    "\n",
    " # mo hinh\n",
    "start_time = time.time()\n",
    "regr = linear_model.LinearRegression()\n",
    "regr.fit(X, Y)\n",
    "print(\"Thoi gian chay --- %s seconds ---\" % (time.time() - start_time))\n",
    "\n",
    "\n",
    "print('Intercept: \\n', regr.intercept_)\n",
    "print('Coefficients: \\n', regr.coef_)"
   ]
  },
  {
   "cell_type": "code",
   "execution_count": 10,
   "metadata": {
    "tags": []
   },
   "outputs": [
    {
     "output_type": "stream",
     "name": "stdout",
     "text": "Predicted Stock Index Price: \n [966.90318776]\nMean Absolute Error: 51.772516573441045\nMean Squared Error: 4356.611357123126\nR^2 score: 0.8976335894170216\n"
    }
   ],
   "source": [
    "# du doan thu\n",
    "New_Interest_Rate = 2.75\n",
    "New_Unemployment_Rate = 5.3\n",
    "print ('Predicted Stock Index Price: \\n', regr.predict([[New_Interest_Rate ,New_Unemployment_Rate]]))\n",
    "\n",
    "y_pred = regr.predict(X)\n",
    "\n",
    "# Su dung metrics de tinh toan cac sai so cua mo hinh\n",
    "\n",
    "# Sai so tuyet doi\n",
    "print('Mean Absolute Error:', metrics.mean_absolute_error(Y, y_pred)) \n",
    "\n",
    "# Sai so binh phuong trung binh \n",
    "print('Mean Squared Error:', metrics.mean_squared_error(Y, y_pred))  \n",
    "\n",
    "# He so xac dinh : coefficient of determination (R2)\n",
    "print('R^2 score:', (metrics.r2_score(Y, y_pred)))\n"
   ]
  },
  {
   "cell_type": "code",
   "execution_count": 4,
   "metadata": {
    "tags": []
   },
   "outputs": [
    {
     "output_type": "stream",
     "name": "stdout",
     "text": "Thoi gian chay --- 0.002398967742919922 seconds ---\n[1070.08333333  118.23278717  -80.81515288]\nPredicted Stock Index Price: \n [[966.90318776]]\n"
    }
   ],
   "source": [
    "import numpy as np\n",
    "start_time = time.time()\n",
    "one = np.ones((X.shape[0], 1))\n",
    "Xbar = np.concatenate((one, X), axis = 1)\n",
    "A = np.dot(Xbar.T, Xbar) \n",
    "b = np.dot(Xbar.T, Y)\n",
    "w = np.dot(np.linalg.pinv(A), b)\n",
    "print(\"Thoi gian chay --- %s seconds ---\" % (time.time() - start_time))\n",
    "print(w)\n",
    "\n",
    "# %%\n",
    "def predict(w,X_new):\n",
    "    return w[0] + np.matrix(X_new)*np.matrix(w[1:]).T\n",
    "    \n",
    "New_Interest_Rate = 2.75\n",
    "New_Unemployment_Rate = 5.3\n",
    "print ('Predicted Stock Index Price: \\n', predict(w,[[New_Interest_Rate ,New_Unemployment_Rate]]))\n",
    "\n",
    "\n",
    "\n",
    "# %%\n"
   ]
  },
  {
   "cell_type": "code",
   "execution_count": 11,
   "metadata": {},
   "outputs": [
    {
     "output_type": "execute_result",
     "data": {
      "text/plain": "<class 'statsmodels.iolib.summary.Summary'>\n\"\"\"\n                            OLS Regression Results                            \n==============================================================================\nDep. Variable:      Stock_Index_Price   R-squared:                       0.898\nModel:                            OLS   Adj. R-squared:                  0.888\nMethod:                 Least Squares   F-statistic:                     92.07\nDate:                Mon, 03 Aug 2020   Prob (F-statistic):           4.04e-11\nTime:                        14:37:29   Log-Likelihood:                -134.61\nNo. Observations:                  24   AIC:                             275.2\nDf Residuals:                      21   BIC:                             278.8\nDf Model:                           2                                         \nCovariance Type:            nonrobust                                         \n==============================================================================\n                 coef    std err          t      P>|t|      [0.025      0.975]\n------------------------------------------------------------------------------\nconst       1070.0833     14.403     74.294      0.000    1040.130    1100.037\nx1           118.2328     38.106      3.103      0.005      38.987     197.479\nx2           -80.8152     38.106     -2.121      0.046    -160.061      -1.569\n==============================================================================\nOmnibus:                        2.691   Durbin-Watson:                   0.530\nProb(Omnibus):                  0.260   Jarque-Bera (JB):                1.551\nSkew:                          -0.612   Prob(JB):                        0.461\nKurtosis:                       3.226   Cond. No.                         5.10\n==============================================================================\n\nWarnings:\n[1] Standard Errors assume that the covariance matrix of the errors is correctly specified.\n\"\"\"",
      "text/html": "<table class=\"simpletable\">\n<caption>OLS Regression Results</caption>\n<tr>\n  <th>Dep. Variable:</th>    <td>Stock_Index_Price</td> <th>  R-squared:         </th> <td>   0.898</td>\n</tr>\n<tr>\n  <th>Model:</th>                   <td>OLS</td>        <th>  Adj. R-squared:    </th> <td>   0.888</td>\n</tr>\n<tr>\n  <th>Method:</th>             <td>Least Squares</td>   <th>  F-statistic:       </th> <td>   92.07</td>\n</tr>\n<tr>\n  <th>Date:</th>             <td>Mon, 03 Aug 2020</td>  <th>  Prob (F-statistic):</th> <td>4.04e-11</td>\n</tr>\n<tr>\n  <th>Time:</th>                 <td>14:37:29</td>      <th>  Log-Likelihood:    </th> <td> -134.61</td>\n</tr>\n<tr>\n  <th>No. Observations:</th>      <td>    24</td>       <th>  AIC:               </th> <td>   275.2</td>\n</tr>\n<tr>\n  <th>Df Residuals:</th>          <td>    21</td>       <th>  BIC:               </th> <td>   278.8</td>\n</tr>\n<tr>\n  <th>Df Model:</th>              <td>     2</td>       <th>                     </th>     <td> </td>   \n</tr>\n<tr>\n  <th>Covariance Type:</th>      <td>nonrobust</td>     <th>                     </th>     <td> </td>   \n</tr>\n</table>\n<table class=\"simpletable\">\n<tr>\n    <td></td>       <th>coef</th>     <th>std err</th>      <th>t</th>      <th>P>|t|</th>  <th>[0.025</th>    <th>0.975]</th>  \n</tr>\n<tr>\n  <th>const</th> <td> 1070.0833</td> <td>   14.403</td> <td>   74.294</td> <td> 0.000</td> <td> 1040.130</td> <td> 1100.037</td>\n</tr>\n<tr>\n  <th>x1</th>    <td>  118.2328</td> <td>   38.106</td> <td>    3.103</td> <td> 0.005</td> <td>   38.987</td> <td>  197.479</td>\n</tr>\n<tr>\n  <th>x2</th>    <td>  -80.8152</td> <td>   38.106</td> <td>   -2.121</td> <td> 0.046</td> <td> -160.061</td> <td>   -1.569</td>\n</tr>\n</table>\n<table class=\"simpletable\">\n<tr>\n  <th>Omnibus:</th>       <td> 2.691</td> <th>  Durbin-Watson:     </th> <td>   0.530</td>\n</tr>\n<tr>\n  <th>Prob(Omnibus):</th> <td> 0.260</td> <th>  Jarque-Bera (JB):  </th> <td>   1.551</td>\n</tr>\n<tr>\n  <th>Skew:</th>          <td>-0.612</td> <th>  Prob(JB):          </th> <td>   0.461</td>\n</tr>\n<tr>\n  <th>Kurtosis:</th>      <td> 3.226</td> <th>  Cond. No.          </th> <td>    5.10</td>\n</tr>\n</table><br/><br/>Warnings:<br/>[1] Standard Errors assume that the covariance matrix of the errors is correctly specified."
     },
     "metadata": {},
     "execution_count": 11
    }
   ],
   "source": [
    "# phan tich thong ke\n",
    "X = sm.add_constant(X) # adding a constant\n",
    " \n",
    "model = sm.OLS(Y, X).fit()\n",
    "model.summary()\n",
    "##Ket luan: P_value cac tham so trong mo hinh deu < 0.05 -> cac tham so nay co y nghia trong mo hinh hoi quy\n"
   ]
  },
  {
   "cell_type": "code",
   "execution_count": null,
   "metadata": {},
   "outputs": [],
   "source": []
  }
 ],
 "metadata": {
  "language_info": {
   "codemirror_mode": {
    "name": "ipython",
    "version": 3
   },
   "file_extension": ".py",
   "mimetype": "text/x-python",
   "name": "python",
   "nbconvert_exporter": "python",
   "pygments_lexer": "ipython3",
   "version": "3.7.3-final"
  },
  "orig_nbformat": 2,
  "kernelspec": {
   "name": "python3",
   "display_name": "Python 3"
  }
 },
 "nbformat": 4,
 "nbformat_minor": 2
}